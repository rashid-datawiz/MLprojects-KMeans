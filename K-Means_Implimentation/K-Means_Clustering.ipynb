{
 "cells": [
  {
   "cell_type": "markdown",
   "id": "44bcfdd0-75eb-418c-9700-fb1b36cbe2e3",
   "metadata": {},
   "source": [
    "# Clustering\n",
    "Given different objects and asked to put in groups, a child may group these objects over the colour, shape, hardness etc. These are variables of the objects which separate them. As a natural process of segmentation, we look for similarities and dissimilarities within objects. This is called clustering, the method of identifying similar instances and keeping them together.\n",
    "\n",
    "In other words, clustering identifies homogeneous subgroups among the observations. As an unsupervised learning approach, clustering finds a structure/pattern in a collection of unlabeled data. Algorithms are capable of discovering hidden patterns which are often useful in areas such as Cybersecurity."
   ]
  },
  {
   "cell_type": "markdown",
   "id": "5d3de9e2-9231-4ef9-9fa4-2a4cc73e6dbe",
   "metadata": {},
   "source": [
    "# KMeans Clustering\n",
    "\n",
    "It is an unsupervised technique used to identify clusters of data objects in the dataset. K specifies the number of clusters.\n",
    "\n",
    "Steps involved in K-Means Algorithm:\n",
    "\n",
    "1. Initially choose the number of clusters as K.\n",
    "\n",
    "2. Start with K centroids by putting them at random place (not necessarily from your dataset). **A centroid is a data point (imaginary or real) at the center of a cluster.**\n",
    "\n",
    "3. Assign each point to the closest centroid. This forms k clusters.\n",
    "\n",
    "4. Within each cluster, compute distance of every point from the centroid. Compute and place the new centroid for each cluster ie., calculate the mean value of points for each cluster and update the cluster centers.\n",
    "\n",
    "5. You have k new centroids. Repeat the process again ie., reassign each data point to the new closest centroid. If any reassignment took place, go to step 4. But if there is no change ie., when clusters form a clear boundary, you have the final clusters for the given data."
   ]
  },
  {
   "cell_type": "markdown",
   "id": "f1f13d32-ed9f-4487-8e21-dce0facf1e71",
   "metadata": {},
   "source": [
    "# K Means Clustering"
   ]
  },
  {
   "cell_type": "code",
   "execution_count": 3,
   "id": "67ae72fa-e771-4965-a376-c4a5e63ce2dd",
   "metadata": {},
   "outputs": [],
   "source": [
    "import numpy as np\n",
    "import pandas as pd\n",
    "import matplotlib.pyplot as plt\n",
    "import seaborn as sns\n"
   ]
  },
  {
   "cell_type": "code",
   "execution_count": 4,
   "id": "655c29c0-6bbd-4e4f-a42b-a87589a26106",
   "metadata": {},
   "outputs": [],
   "source": [
    "df = pd.read_csv('main_data.csv')"
   ]
  },
  {
   "cell_type": "code",
   "execution_count": 7,
   "id": "80a13f96-4706-4a4c-8972-0e09d7ed59ad",
   "metadata": {},
   "outputs": [
    {
     "name": "stdout",
     "output_type": "stream",
     "text": [
      "<class 'pandas.core.frame.DataFrame'>\n",
      "RangeIndex: 191 entries, 0 to 190\n",
      "Data columns (total 5 columns):\n",
      " #   Column                                     Non-Null Count  Dtype  \n",
      "---  ------                                     --------------  -----  \n",
      " 0   Unnamed: 0                                 191 non-null    int64  \n",
      " 1   country                                    191 non-null    object \n",
      " 2   fy2017, Dealing with construction permits  191 non-null    float64\n",
      " 3   fy2019, Dealing with construction permits  191 non-null    float64\n",
      " 4   fy2018, Dealing with construction permits  191 non-null    float64\n",
      "dtypes: float64(3), int64(1), object(1)\n",
      "memory usage: 7.6+ KB\n"
     ]
    }
   ],
   "source": [
    "df.info()"
   ]
  },
  {
   "cell_type": "code",
   "execution_count": 9,
   "id": "aefe5a0f-8ace-457f-b276-1fc0c196b1c9",
   "metadata": {},
   "outputs": [
    {
     "data": {
      "text/html": [
       "<div>\n",
       "<style scoped>\n",
       "    .dataframe tbody tr th:only-of-type {\n",
       "        vertical-align: middle;\n",
       "    }\n",
       "\n",
       "    .dataframe tbody tr th {\n",
       "        vertical-align: top;\n",
       "    }\n",
       "\n",
       "    .dataframe thead th {\n",
       "        text-align: right;\n",
       "    }\n",
       "</style>\n",
       "<table border=\"1\" class=\"dataframe\">\n",
       "  <thead>\n",
       "    <tr style=\"text-align: right;\">\n",
       "      <th></th>\n",
       "      <th>Unnamed: 0</th>\n",
       "      <th>country</th>\n",
       "      <th>fy2017, Dealing with construction permits</th>\n",
       "      <th>fy2019, Dealing with construction permits</th>\n",
       "      <th>fy2018, Dealing with construction permits</th>\n",
       "    </tr>\n",
       "  </thead>\n",
       "  <tbody>\n",
       "    <tr>\n",
       "      <th>0</th>\n",
       "      <td>0</td>\n",
       "      <td>AFG</td>\n",
       "      <td>33.70269</td>\n",
       "      <td>34.53602</td>\n",
       "      <td>34.53602</td>\n",
       "    </tr>\n",
       "    <tr>\n",
       "      <th>1</th>\n",
       "      <td>1</td>\n",
       "      <td>AGO</td>\n",
       "      <td>64.57157</td>\n",
       "      <td>65.32993</td>\n",
       "      <td>64.99177</td>\n",
       "    </tr>\n",
       "    <tr>\n",
       "      <th>2</th>\n",
       "      <td>2</td>\n",
       "      <td>ALB</td>\n",
       "      <td>52.60171</td>\n",
       "      <td>52.67715</td>\n",
       "      <td>52.64734</td>\n",
       "    </tr>\n",
       "    <tr>\n",
       "      <th>3</th>\n",
       "      <td>3</td>\n",
       "      <td>ARE</td>\n",
       "      <td>86.51006</td>\n",
       "      <td>89.75407</td>\n",
       "      <td>86.52729</td>\n",
       "    </tr>\n",
       "    <tr>\n",
       "      <th>4</th>\n",
       "      <td>4</td>\n",
       "      <td>ARG</td>\n",
       "      <td>48.96341</td>\n",
       "      <td>56.44015</td>\n",
       "      <td>49.26822</td>\n",
       "    </tr>\n",
       "  </tbody>\n",
       "</table>\n",
       "</div>"
      ],
      "text/plain": [
       "   Unnamed: 0 country  fy2017, Dealing with construction permits  \\\n",
       "0           0     AFG                                   33.70269   \n",
       "1           1     AGO                                   64.57157   \n",
       "2           2     ALB                                   52.60171   \n",
       "3           3     ARE                                   86.51006   \n",
       "4           4     ARG                                   48.96341   \n",
       "\n",
       "   fy2019, Dealing with construction permits  \\\n",
       "0                                   34.53602   \n",
       "1                                   65.32993   \n",
       "2                                   52.67715   \n",
       "3                                   89.75407   \n",
       "4                                   56.44015   \n",
       "\n",
       "   fy2018, Dealing with construction permits  \n",
       "0                                   34.53602  \n",
       "1                                   64.99177  \n",
       "2                                   52.64734  \n",
       "3                                   86.52729  \n",
       "4                                   49.26822  "
      ]
     },
     "execution_count": 9,
     "metadata": {},
     "output_type": "execute_result"
    }
   ],
   "source": [
    "df.head()"
   ]
  },
  {
   "cell_type": "code",
   "execution_count": 11,
   "id": "a6298fb4-5594-4865-9aad-150536d4c26d",
   "metadata": {},
   "outputs": [
    {
     "data": {
      "text/html": [
       "<div>\n",
       "<style scoped>\n",
       "    .dataframe tbody tr th:only-of-type {\n",
       "        vertical-align: middle;\n",
       "    }\n",
       "\n",
       "    .dataframe tbody tr th {\n",
       "        vertical-align: top;\n",
       "    }\n",
       "\n",
       "    .dataframe thead th {\n",
       "        text-align: right;\n",
       "    }\n",
       "</style>\n",
       "<table border=\"1\" class=\"dataframe\">\n",
       "  <thead>\n",
       "    <tr style=\"text-align: right;\">\n",
       "      <th></th>\n",
       "      <th>Unnamed: 0</th>\n",
       "      <th>country</th>\n",
       "      <th>fy2017, Dealing with construction permits</th>\n",
       "      <th>fy2019, Dealing with construction permits</th>\n",
       "      <th>fy2018, Dealing with construction permits</th>\n",
       "    </tr>\n",
       "  </thead>\n",
       "  <tbody>\n",
       "    <tr>\n",
       "      <th>186</th>\n",
       "      <td>186</td>\n",
       "      <td>XKX</td>\n",
       "      <td>50.29844</td>\n",
       "      <td>55.28702</td>\n",
       "      <td>52.87432</td>\n",
       "    </tr>\n",
       "    <tr>\n",
       "      <th>187</th>\n",
       "      <td>187</td>\n",
       "      <td>YEM</td>\n",
       "      <td>0.00000</td>\n",
       "      <td>0.00000</td>\n",
       "      <td>0.00000</td>\n",
       "    </tr>\n",
       "    <tr>\n",
       "      <th>188</th>\n",
       "      <td>188</td>\n",
       "      <td>ZAF</td>\n",
       "      <td>68.26741</td>\n",
       "      <td>68.32331</td>\n",
       "      <td>68.24925</td>\n",
       "    </tr>\n",
       "    <tr>\n",
       "      <th>189</th>\n",
       "      <td>189</td>\n",
       "      <td>ZMB</td>\n",
       "      <td>71.10859</td>\n",
       "      <td>72.09460</td>\n",
       "      <td>71.72488</td>\n",
       "    </tr>\n",
       "    <tr>\n",
       "      <th>190</th>\n",
       "      <td>190</td>\n",
       "      <td>ZWE</td>\n",
       "      <td>46.39289</td>\n",
       "      <td>60.00173</td>\n",
       "      <td>48.55427</td>\n",
       "    </tr>\n",
       "  </tbody>\n",
       "</table>\n",
       "</div>"
      ],
      "text/plain": [
       "     Unnamed: 0 country  fy2017, Dealing with construction permits  \\\n",
       "186         186     XKX                                   50.29844   \n",
       "187         187     YEM                                    0.00000   \n",
       "188         188     ZAF                                   68.26741   \n",
       "189         189     ZMB                                   71.10859   \n",
       "190         190     ZWE                                   46.39289   \n",
       "\n",
       "     fy2019, Dealing with construction permits  \\\n",
       "186                                   55.28702   \n",
       "187                                    0.00000   \n",
       "188                                   68.32331   \n",
       "189                                   72.09460   \n",
       "190                                   60.00173   \n",
       "\n",
       "     fy2018, Dealing with construction permits  \n",
       "186                                   52.87432  \n",
       "187                                    0.00000  \n",
       "188                                   68.24925  \n",
       "189                                   71.72488  \n",
       "190                                   48.55427  "
      ]
     },
     "execution_count": 11,
     "metadata": {},
     "output_type": "execute_result"
    }
   ],
   "source": [
    "df.tail()"
   ]
  },
  {
   "cell_type": "code",
   "execution_count": 16,
   "id": "6a5ef44c-3314-4c1f-bc5e-a99e0c48adbc",
   "metadata": {},
   "outputs": [],
   "source": [
    "df.drop(\"Unnamed: 0\", axis=1, inplace=True)"
   ]
  },
  {
   "cell_type": "code",
   "execution_count": 18,
   "id": "46885c6f-c617-4317-af1d-b4a85a59c2fd",
   "metadata": {},
   "outputs": [
    {
     "data": {
      "text/html": [
       "<div>\n",
       "<style scoped>\n",
       "    .dataframe tbody tr th:only-of-type {\n",
       "        vertical-align: middle;\n",
       "    }\n",
       "\n",
       "    .dataframe tbody tr th {\n",
       "        vertical-align: top;\n",
       "    }\n",
       "\n",
       "    .dataframe thead th {\n",
       "        text-align: right;\n",
       "    }\n",
       "</style>\n",
       "<table border=\"1\" class=\"dataframe\">\n",
       "  <thead>\n",
       "    <tr style=\"text-align: right;\">\n",
       "      <th></th>\n",
       "      <th>country</th>\n",
       "      <th>fy2017, Dealing with construction permits</th>\n",
       "      <th>fy2019, Dealing with construction permits</th>\n",
       "      <th>fy2018, Dealing with construction permits</th>\n",
       "    </tr>\n",
       "  </thead>\n",
       "  <tbody>\n",
       "    <tr>\n",
       "      <th>0</th>\n",
       "      <td>AFG</td>\n",
       "      <td>33.70269</td>\n",
       "      <td>34.53602</td>\n",
       "      <td>34.53602</td>\n",
       "    </tr>\n",
       "    <tr>\n",
       "      <th>1</th>\n",
       "      <td>AGO</td>\n",
       "      <td>64.57157</td>\n",
       "      <td>65.32993</td>\n",
       "      <td>64.99177</td>\n",
       "    </tr>\n",
       "    <tr>\n",
       "      <th>2</th>\n",
       "      <td>ALB</td>\n",
       "      <td>52.60171</td>\n",
       "      <td>52.67715</td>\n",
       "      <td>52.64734</td>\n",
       "    </tr>\n",
       "    <tr>\n",
       "      <th>3</th>\n",
       "      <td>ARE</td>\n",
       "      <td>86.51006</td>\n",
       "      <td>89.75407</td>\n",
       "      <td>86.52729</td>\n",
       "    </tr>\n",
       "    <tr>\n",
       "      <th>4</th>\n",
       "      <td>ARG</td>\n",
       "      <td>48.96341</td>\n",
       "      <td>56.44015</td>\n",
       "      <td>49.26822</td>\n",
       "    </tr>\n",
       "    <tr>\n",
       "      <th>...</th>\n",
       "      <td>...</td>\n",
       "      <td>...</td>\n",
       "      <td>...</td>\n",
       "      <td>...</td>\n",
       "    </tr>\n",
       "    <tr>\n",
       "      <th>186</th>\n",
       "      <td>XKX</td>\n",
       "      <td>50.29844</td>\n",
       "      <td>55.28702</td>\n",
       "      <td>52.87432</td>\n",
       "    </tr>\n",
       "    <tr>\n",
       "      <th>187</th>\n",
       "      <td>YEM</td>\n",
       "      <td>0.00000</td>\n",
       "      <td>0.00000</td>\n",
       "      <td>0.00000</td>\n",
       "    </tr>\n",
       "    <tr>\n",
       "      <th>188</th>\n",
       "      <td>ZAF</td>\n",
       "      <td>68.26741</td>\n",
       "      <td>68.32331</td>\n",
       "      <td>68.24925</td>\n",
       "    </tr>\n",
       "    <tr>\n",
       "      <th>189</th>\n",
       "      <td>ZMB</td>\n",
       "      <td>71.10859</td>\n",
       "      <td>72.09460</td>\n",
       "      <td>71.72488</td>\n",
       "    </tr>\n",
       "    <tr>\n",
       "      <th>190</th>\n",
       "      <td>ZWE</td>\n",
       "      <td>46.39289</td>\n",
       "      <td>60.00173</td>\n",
       "      <td>48.55427</td>\n",
       "    </tr>\n",
       "  </tbody>\n",
       "</table>\n",
       "<p>191 rows × 4 columns</p>\n",
       "</div>"
      ],
      "text/plain": [
       "    country  fy2017, Dealing with construction permits  \\\n",
       "0       AFG                                   33.70269   \n",
       "1       AGO                                   64.57157   \n",
       "2       ALB                                   52.60171   \n",
       "3       ARE                                   86.51006   \n",
       "4       ARG                                   48.96341   \n",
       "..      ...                                        ...   \n",
       "186     XKX                                   50.29844   \n",
       "187     YEM                                    0.00000   \n",
       "188     ZAF                                   68.26741   \n",
       "189     ZMB                                   71.10859   \n",
       "190     ZWE                                   46.39289   \n",
       "\n",
       "     fy2019, Dealing with construction permits  \\\n",
       "0                                     34.53602   \n",
       "1                                     65.32993   \n",
       "2                                     52.67715   \n",
       "3                                     89.75407   \n",
       "4                                     56.44015   \n",
       "..                                         ...   \n",
       "186                                   55.28702   \n",
       "187                                    0.00000   \n",
       "188                                   68.32331   \n",
       "189                                   72.09460   \n",
       "190                                   60.00173   \n",
       "\n",
       "     fy2018, Dealing with construction permits  \n",
       "0                                     34.53602  \n",
       "1                                     64.99177  \n",
       "2                                     52.64734  \n",
       "3                                     86.52729  \n",
       "4                                     49.26822  \n",
       "..                                         ...  \n",
       "186                                   52.87432  \n",
       "187                                    0.00000  \n",
       "188                                   68.24925  \n",
       "189                                   71.72488  \n",
       "190                                   48.55427  \n",
       "\n",
       "[191 rows x 4 columns]"
      ]
     },
     "execution_count": 18,
     "metadata": {},
     "output_type": "execute_result"
    }
   ],
   "source": [
    "df"
   ]
  },
  {
   "cell_type": "code",
   "execution_count": 20,
   "id": "ff195248-9ee0-464f-8332-706e5c04f1ba",
   "metadata": {},
   "outputs": [],
   "source": [
    "# Plotting histogram for all the columns to see the data distribution:"
   ]
  },
  {
   "cell_type": "code",
   "execution_count": 24,
   "id": "cc813220-66ec-46ae-a6e3-26b491e29804",
   "metadata": {},
   "outputs": [
    {
     "data": {
      "image/png": "[encoded data removed]",
      "text/plain": [
       "<Figure size 2000x2500 with 3 Axes>"
      ]
     },
     "metadata": {},
     "output_type": "display_data"
    }
   ],
   "source": [
    "figure = plt.figure(figsize=(20,25)) # setting the canvas\n",
    "\n",
    "for i in range(1,4):\n",
    "    plt.subplot(3,1,i) # within canvas we plot 3 rows, 1 column, means 1 histogram in each row\n",
    "    sns.histplot(df.iloc[:,i], kde=True) # print all rows for index 1 column, then all rows for index 2 column and so on ..."
   ]
  },
  {
   "cell_type": "code",
   "execution_count": 26,
   "id": "43aa674b-5f6d-46ee-9081-c6a98329a459",
   "metadata": {},
   "outputs": [],
   "source": [
    "# Insights: From the graphs, we see that we have skewed data. Corrupted values and null values are there "
   ]
  },
  {
   "cell_type": "code",
   "execution_count": null,
   "id": "c1da2856-ea1a-4463-929a-3054c134ab92",
   "metadata": {},
   "outputs": [],
   "source": []
  },
  {
   "cell_type": "markdown",
   "id": "8d3bddab-5003-4c1b-a613-baafaf3394e5",
   "metadata": {},
   "source": [
    "## Numerical Data for Clustering:"
   ]
  },
  {
   "cell_type": "code",
   "execution_count": 30,
   "id": "c46d50d0-f876-4efd-bd7e-4b5819e7f43a",
   "metadata": {},
   "outputs": [
    {
     "data": {
      "text/html": [
       "<div>\n",
       "<style scoped>\n",
       "    .dataframe tbody tr th:only-of-type {\n",
       "        vertical-align: middle;\n",
       "    }\n",
       "\n",
       "    .dataframe tbody tr th {\n",
       "        vertical-align: top;\n",
       "    }\n",
       "\n",
       "    .dataframe thead th {\n",
       "        text-align: right;\n",
       "    }\n",
       "</style>\n",
       "<table border=\"1\" class=\"dataframe\">\n",
       "  <thead>\n",
       "    <tr style=\"text-align: right;\">\n",
       "      <th></th>\n",
       "      <th>fy2017, Dealing with construction permits</th>\n",
       "      <th>fy2019, Dealing with construction permits</th>\n",
       "      <th>fy2018, Dealing with construction permits</th>\n",
       "    </tr>\n",
       "  </thead>\n",
       "  <tbody>\n",
       "    <tr>\n",
       "      <th>0</th>\n",
       "      <td>33.70269</td>\n",
       "      <td>34.53602</td>\n",
       "      <td>34.53602</td>\n",
       "    </tr>\n",
       "    <tr>\n",
       "      <th>1</th>\n",
       "      <td>64.57157</td>\n",
       "      <td>65.32993</td>\n",
       "      <td>64.99177</td>\n",
       "    </tr>\n",
       "    <tr>\n",
       "      <th>2</th>\n",
       "      <td>52.60171</td>\n",
       "      <td>52.67715</td>\n",
       "      <td>52.64734</td>\n",
       "    </tr>\n",
       "    <tr>\n",
       "      <th>3</th>\n",
       "      <td>86.51006</td>\n",
       "      <td>89.75407</td>\n",
       "      <td>86.52729</td>\n",
       "    </tr>\n",
       "    <tr>\n",
       "      <th>4</th>\n",
       "      <td>48.96341</td>\n",
       "      <td>56.44015</td>\n",
       "      <td>49.26822</td>\n",
       "    </tr>\n",
       "  </tbody>\n",
       "</table>\n",
       "</div>"
      ],
      "text/plain": [
       "   fy2017, Dealing with construction permits  \\\n",
       "0                                   33.70269   \n",
       "1                                   64.57157   \n",
       "2                                   52.60171   \n",
       "3                                   86.51006   \n",
       "4                                   48.96341   \n",
       "\n",
       "   fy2019, Dealing with construction permits  \\\n",
       "0                                   34.53602   \n",
       "1                                   65.32993   \n",
       "2                                   52.67715   \n",
       "3                                   89.75407   \n",
       "4                                   56.44015   \n",
       "\n",
       "   fy2018, Dealing with construction permits  \n",
       "0                                   34.53602  \n",
       "1                                   64.99177  \n",
       "2                                   52.64734  \n",
       "3                                   86.52729  \n",
       "4                                   49.26822  "
      ]
     },
     "execution_count": 30,
     "metadata": {},
     "output_type": "execute_result"
    }
   ],
   "source": [
    "x = df.iloc[:, 1:4]\n",
    "x.head()"
   ]
  },
  {
   "cell_type": "code",
   "execution_count": 32,
   "id": "2cbcf8d0-7283-4af3-8c6d-0584c159929e",
   "metadata": {},
   "outputs": [],
   "source": [
    "# Note: if we use loc instrad of iloc then we have to give the names of the columns"
   ]
  },
  {
   "cell_type": "markdown",
   "id": "632d5559-2924-4bf8-a766-d3cb01b06fc6",
   "metadata": {},
   "source": [
    "## Finding K Values:"
   ]
  },
  {
   "attachments": {},
   "cell_type": "markdown",
   "id": "5dbba9d0-cf1b-4551-a63b-f4f7ec4d791d",
   "metadata": {},
   "source": [
    "###### Elbow Technique:\n",
    "Elbow method is the most popular method that is used to determine the optimal value of k.\n",
    "\n",
    "How it works?\n",
    "\n",
    "Start with some K.\n",
    "\n",
    "Calculate WCSS (Within Cluster Sum of squared errors) ie., for each of the cluster, it calculate the distance of individual data points from the centroid, then square it and sum it up.\n",
    "\n",
    "       WCSS = WCSS1 + WCSS2 + ..... WCSSk\n",
    "Take new value for K, repeat step2.\n",
    "\n",
    "For each number of K, WCSS is calculated.\n",
    "\n",
    "Find the elbow point. That is the optimal value of K.\n",
    "\n",
    "As the number of K increases, the error reduces."
   ]
  },
  {
   "cell_type": "code",
   "execution_count": 48,
   "id": "ab967dc6-79bf-4945-969c-f89b5bd8993e",
   "metadata": {},
   "outputs": [
    {
     "data": {
      "image/png": "[encoded data removed]",
      "text/plain": [
       "<Figure size 640x480 with 1 Axes>"
      ]
     },
     "metadata": {},
     "output_type": "display_data"
    }
   ],
   "source": [
    "from sklearn.cluster import KMeans\n",
    "import warnings\n",
    "warnings.filterwarnings(\"ignore\")\n",
    "wcss = []\n",
    "for i in range(1,12): # Taking k value range from 1 till 12\n",
    "    kmeans = KMeans(n_clusters=i,random_state=42)\n",
    "    kmeans.fit(x) # train the model based on input features which stored in x\n",
    "    wcss.append(kmeans.inertia_) # calculates wcss for each k value\n",
    "plt.plot(range(1,12), wcss)\n",
    "plt.title(\"The Elbow Method\")\n",
    "plt.xlabel('No. of clusters')\n",
    "plt.ylabel('WCSS')\n",
    "plt.show()"
   ]
  },
  {
   "cell_type": "markdown",
   "id": "d8d17db2-acb9-4128-ad5c-547d270357ab",
   "metadata": {},
   "source": [
    "### To determine the optimal number of clusters, we have to select the value of k at the “elbow” ie., the point after which the distortion/inertia start decreasing in a linear fashion."
   ]
  },
  {
   "cell_type": "code",
   "execution_count": 44,
   "id": "a1eba7ae-21af-4d67-bfd6-45509799bfab",
   "metadata": {},
   "outputs": [],
   "source": [
    "# Here from the graph we see that we can take k value as 3 (approx.)"
   ]
  },
  {
   "cell_type": "code",
   "execution_count": 52,
   "id": "40d6db06-ab21-48cf-8b70-47a3736bc2d4",
   "metadata": {},
   "outputs": [
    {
     "data": {
      "text/html": [
       "<style>#sk-container-id-1 {\n",
       "  /* Definition of color scheme common for light and dark mode */\n",
       "  --sklearn-color-text: black;\n",
       "  --sklearn-color-line: gray;\n",
       "  /* Definition of color scheme for unfitted estimators */\n",
       "  --sklearn-color-unfitted-level-0: #fff5e6;\n",
       "  --sklearn-color-unfitted-level-1: #f6e4d2;\n",
       "  --sklearn-color-unfitted-level-2: #ffe0b3;\n",
       "  --sklearn-color-unfitted-level-3: chocolate;\n",
       "  /* Definition of color scheme for fitted estimators */\n",
       "  --sklearn-color-fitted-level-0: #f0f8ff;\n",
       "  --sklearn-color-fitted-level-1: #d4ebff;\n",
       "  --sklearn-color-fitted-level-2: #b3dbfd;\n",
       "  --sklearn-color-fitted-level-3: cornflowerblue;\n",
       "\n",
       "  /* Specific color for light theme */\n",
       "  --sklearn-color-text-on-default-background: var(--sg-text-color, var(--theme-code-foreground, var(--jp-content-font-color1, black)));\n",
       "  --sklearn-color-background: var(--sg-background-color, var(--theme-background, var(--jp-layout-color0, white)));\n",
       "  --sklearn-color-border-box: var(--sg-text-color, var(--theme-code-foreground, var(--jp-content-font-color1, black)));\n",
       "  --sklearn-color-icon: #696969;\n",
       "\n",
       "  @media (prefers-color-scheme: dark) {\n",
       "    /* Redefinition of color scheme for dark theme */\n",
       "    --sklearn-color-text-on-default-background: var(--sg-text-color, var(--theme-code-foreground, var(--jp-content-font-color1, white)));\n",
       "    --sklearn-color-background: var(--sg-background-color, var(--theme-background, var(--jp-layout-color0, #111)));\n",
       "    --sklearn-color-border-box: var(--sg-text-color, var(--theme-code-foreground, var(--jp-content-font-color1, white)));\n",
       "    --sklearn-color-icon: #878787;\n",
       "  }\n",
       "}\n",
       "\n",
       "#sk-container-id-1 {\n",
       "  color: var(--sklearn-color-text);\n",
       "}\n",
       "\n",
       "#sk-container-id-1 pre {\n",
       "  padding: 0;\n",
       "}\n",
       "\n",
       "#sk-container-id-1 input.sk-hidden--visually {\n",
       "  border: 0;\n",
       "  clip: rect(1px 1px 1px 1px);\n",
       "  clip: rect(1px, 1px, 1px, 1px);\n",
       "  height: 1px;\n",
       "  margin: -1px;\n",
       "  overflow: hidden;\n",
       "  padding: 0;\n",
       "  position: absolute;\n",
       "  width: 1px;\n",
       "}\n",
       "\n",
       "#sk-container-id-1 div.sk-dashed-wrapped {\n",
       "  border: 1px dashed var(--sklearn-color-line);\n",
       "  margin: 0 0.4em 0.5em 0.4em;\n",
       "  box-sizing: border-box;\n",
       "  padding-bottom: 0.4em;\n",
       "  background-color: var(--sklearn-color-background);\n",
       "}\n",
       "\n",
       "#sk-container-id-1 div.sk-container {\n",
       "  /* jupyter's `normalize.less` sets `[hidden] { display: none; }`\n",
       "     but bootstrap.min.css set `[hidden] { display: none !important; }`\n",
       "     so we also need the `!important` here to be able to override the\n",
       "     default hidden behavior on the sphinx rendered scikit-learn.org.\n",
       "     See: https://github.com/scikit-learn/scikit-learn/issues/21755 */\n",
       "  display: inline-block !important;\n",
       "  position: relative;\n",
       "}\n",
       "\n",
       "#sk-container-id-1 div.sk-text-repr-fallback {\n",
       "  display: none;\n",
       "}\n",
       "\n",
       "div.sk-parallel-item,\n",
       "div.sk-serial,\n",
       "div.sk-item {\n",
       "  /* draw centered vertical line to link estimators */\n",
       "  background-image: linear-gradient(var(--sklearn-color-text-on-default-background), var(--sklearn-color-text-on-default-background));\n",
       "  background-size: 2px 100%;\n",
       "  background-repeat: no-repeat;\n",
       "  background-position: center center;\n",
       "}\n",
       "\n",
       "/* Parallel-specific style estimator block */\n",
       "\n",
       "#sk-container-id-1 div.sk-parallel-item::after {\n",
       "  content: \"\";\n",
       "  width: 100%;\n",
       "  border-bottom: 2px solid var(--sklearn-color-text-on-default-background);\n",
       "  flex-grow: 1;\n",
       "}\n",
       "\n",
       "#sk-container-id-1 div.sk-parallel {\n",
       "  display: flex;\n",
       "  align-items: stretch;\n",
       "  justify-content: center;\n",
       "  background-color: var(--sklearn-color-background);\n",
       "  position: relative;\n",
       "}\n",
       "\n",
       "#sk-container-id-1 div.sk-parallel-item {\n",
       "  display: flex;\n",
       "  flex-direction: column;\n",
       "}\n",
       "\n",
       "#sk-container-id-1 div.sk-parallel-item:first-child::after {\n",
       "  align-self: flex-end;\n",
       "  width: 50%;\n",
       "}\n",
       "\n",
       "#sk-container-id-1 div.sk-parallel-item:last-child::after {\n",
       "  align-self: flex-start;\n",
       "  width: 50%;\n",
       "}\n",
       "\n",
       "#sk-container-id-1 div.sk-parallel-item:only-child::after {\n",
       "  width: 0;\n",
       "}\n",
       "\n",
       "/* Serial-specific style estimator block */\n",
       "\n",
       "#sk-container-id-1 div.sk-serial {\n",
       "  display: flex;\n",
       "  flex-direction: column;\n",
       "  align-items: center;\n",
       "  background-color: var(--sklearn-color-background);\n",
       "  padding-right: 1em;\n",
       "  padding-left: 1em;\n",
       "}\n",
       "\n",
       "\n",
       "/* Toggleable style: style used for estimator/Pipeline/ColumnTransformer box that is\n",
       "clickable and can be expanded/collapsed.\n",
       "- Pipeline and ColumnTransformer use this feature and define the default style\n",
       "- Estimators will overwrite some part of the style using the `sk-estimator` class\n",
       "*/\n",
       "\n",
       "/* Pipeline and ColumnTransformer style (default) */\n",
       "\n",
       "#sk-container-id-1 div.sk-toggleable {\n",
       "  /* Default theme specific background. It is overwritten whether we have a\n",
       "  specific estimator or a Pipeline/ColumnTransformer */\n",
       "  background-color: var(--sklearn-color-background);\n",
       "}\n",
       "\n",
       "/* Toggleable label */\n",
       "#sk-container-id-1 label.sk-toggleable__label {\n",
       "  cursor: pointer;\n",
       "  display: block;\n",
       "  width: 100%;\n",
       "  margin-bottom: 0;\n",
       "  padding: 0.5em;\n",
       "  box-sizing: border-box;\n",
       "  text-align: center;\n",
       "}\n",
       "\n",
       "#sk-container-id-1 label.sk-toggleable__label-arrow:before {\n",
       "  /* Arrow on the left of the label */\n",
       "  content: \"▸\";\n",
       "  float: left;\n",
       "  margin-right: 0.25em;\n",
       "  color: var(--sklearn-color-icon);\n",
       "}\n",
       "\n",
       "#sk-container-id-1 label.sk-toggleable__label-arrow:hover:before {\n",
       "  color: var(--sklearn-color-text);\n",
       "}\n",
       "\n",
       "/* Toggleable content - dropdown */\n",
       "\n",
       "#sk-container-id-1 div.sk-toggleable__content {\n",
       "  max-height: 0;\n",
       "  max-width: 0;\n",
       "  overflow: hidden;\n",
       "  text-align: left;\n",
       "  /* unfitted */\n",
       "  background-color: var(--sklearn-color-unfitted-level-0);\n",
       "}\n",
       "\n",
       "#sk-container-id-1 div.sk-toggleable__content.fitted {\n",
       "  /* fitted */\n",
       "  background-color: var(--sklearn-color-fitted-level-0);\n",
       "}\n",
       "\n",
       "#sk-container-id-1 div.sk-toggleable__content pre {\n",
       "  margin: 0.2em;\n",
       "  border-radius: 0.25em;\n",
       "  color: var(--sklearn-color-text);\n",
       "  /* unfitted */\n",
       "  background-color: var(--sklearn-color-unfitted-level-0);\n",
       "}\n",
       "\n",
       "#sk-container-id-1 div.sk-toggleable__content.fitted pre {\n",
       "  /* unfitted */\n",
       "  background-color: var(--sklearn-color-fitted-level-0);\n",
       "}\n",
       "\n",
       "#sk-container-id-1 input.sk-toggleable__control:checked~div.sk-toggleable__content {\n",
       "  /* Expand drop-down */\n",
       "  max-height: 200px;\n",
       "  max-width: 100%;\n",
       "  overflow: auto;\n",
       "}\n",
       "\n",
       "#sk-container-id-1 input.sk-toggleable__control:checked~label.sk-toggleable__label-arrow:before {\n",
       "  content: \"▾\";\n",
       "}\n",
       "\n",
       "/* Pipeline/ColumnTransformer-specific style */\n",
       "\n",
       "#sk-container-id-1 div.sk-label input.sk-toggleable__control:checked~label.sk-toggleable__label {\n",
       "  color: var(--sklearn-color-text);\n",
       "  background-color: var(--sklearn-color-unfitted-level-2);\n",
       "}\n",
       "\n",
       "#sk-container-id-1 div.sk-label.fitted input.sk-toggleable__control:checked~label.sk-toggleable__label {\n",
       "  background-color: var(--sklearn-color-fitted-level-2);\n",
       "}\n",
       "\n",
       "/* Estimator-specific style */\n",
       "\n",
       "/* Colorize estimator box */\n",
       "#sk-container-id-1 div.sk-estimator input.sk-toggleable__control:checked~label.sk-toggleable__label {\n",
       "  /* unfitted */\n",
       "  background-color: var(--sklearn-color-unfitted-level-2);\n",
       "}\n",
       "\n",
       "#sk-container-id-1 div.sk-estimator.fitted input.sk-toggleable__control:checked~label.sk-toggleable__label {\n",
       "  /* fitted */\n",
       "  background-color: var(--sklearn-color-fitted-level-2);\n",
       "}\n",
       "\n",
       "#sk-container-id-1 div.sk-label label.sk-toggleable__label,\n",
       "#sk-container-id-1 div.sk-label label {\n",
       "  /* The background is the default theme color */\n",
       "  color: var(--sklearn-color-text-on-default-background);\n",
       "}\n",
       "\n",
       "/* On hover, darken the color of the background */\n",
       "#sk-container-id-1 div.sk-label:hover label.sk-toggleable__label {\n",
       "  color: var(--sklearn-color-text);\n",
       "  background-color: var(--sklearn-color-unfitted-level-2);\n",
       "}\n",
       "\n",
       "/* Label box, darken color on hover, fitted */\n",
       "#sk-container-id-1 div.sk-label.fitted:hover label.sk-toggleable__label.fitted {\n",
       "  color: var(--sklearn-color-text);\n",
       "  background-color: var(--sklearn-color-fitted-level-2);\n",
       "}\n",
       "\n",
       "/* Estimator label */\n",
       "\n",
       "#sk-container-id-1 div.sk-label label {\n",
       "  font-family: monospace;\n",
       "  font-weight: bold;\n",
       "  display: inline-block;\n",
       "  line-height: 1.2em;\n",
       "}\n",
       "\n",
       "#sk-container-id-1 div.sk-label-container {\n",
       "  text-align: center;\n",
       "}\n",
       "\n",
       "/* Estimator-specific */\n",
       "#sk-container-id-1 div.sk-estimator {\n",
       "  font-family: monospace;\n",
       "  border: 1px dotted var(--sklearn-color-border-box);\n",
       "  border-radius: 0.25em;\n",
       "  box-sizing: border-box;\n",
       "  margin-bottom: 0.5em;\n",
       "  /* unfitted */\n",
       "  background-color: var(--sklearn-color-unfitted-level-0);\n",
       "}\n",
       "\n",
       "#sk-container-id-1 div.sk-estimator.fitted {\n",
       "  /* fitted */\n",
       "  background-color: var(--sklearn-color-fitted-level-0);\n",
       "}\n",
       "\n",
       "/* on hover */\n",
       "#sk-container-id-1 div.sk-estimator:hover {\n",
       "  /* unfitted */\n",
       "  background-color: var(--sklearn-color-unfitted-level-2);\n",
       "}\n",
       "\n",
       "#sk-container-id-1 div.sk-estimator.fitted:hover {\n",
       "  /* fitted */\n",
       "  background-color: var(--sklearn-color-fitted-level-2);\n",
       "}\n",
       "\n",
       "/* Specification for estimator info (e.g. \"i\" and \"?\") */\n",
       "\n",
       "/* Common style for \"i\" and \"?\" */\n",
       "\n",
       ".sk-estimator-doc-link,\n",
       "a:link.sk-estimator-doc-link,\n",
       "a:visited.sk-estimator-doc-link {\n",
       "  float: right;\n",
       "  font-size: smaller;\n",
       "  line-height: 1em;\n",
       "  font-family: monospace;\n",
       "  background-color: var(--sklearn-color-background);\n",
       "  border-radius: 1em;\n",
       "  height: 1em;\n",
       "  width: 1em;\n",
       "  text-decoration: none !important;\n",
       "  margin-left: 1ex;\n",
       "  /* unfitted */\n",
       "  border: var(--sklearn-color-unfitted-level-1) 1pt solid;\n",
       "  color: var(--sklearn-color-unfitted-level-1);\n",
       "}\n",
       "\n",
       ".sk-estimator-doc-link.fitted,\n",
       "a:link.sk-estimator-doc-link.fitted,\n",
       "a:visited.sk-estimator-doc-link.fitted {\n",
       "  /* fitted */\n",
       "  border: var(--sklearn-color-fitted-level-1) 1pt solid;\n",
       "  color: var(--sklearn-color-fitted-level-1);\n",
       "}\n",
       "\n",
       "/* On hover */\n",
       "div.sk-estimator:hover .sk-estimator-doc-link:hover,\n",
       ".sk-estimator-doc-link:hover,\n",
       "div.sk-label-container:hover .sk-estimator-doc-link:hover,\n",
       ".sk-estimator-doc-link:hover {\n",
       "  /* unfitted */\n",
       "  background-color: var(--sklearn-color-unfitted-level-3);\n",
       "  color: var(--sklearn-color-background);\n",
       "  text-decoration: none;\n",
       "}\n",
       "\n",
       "div.sk-estimator.fitted:hover .sk-estimator-doc-link.fitted:hover,\n",
       ".sk-estimator-doc-link.fitted:hover,\n",
       "div.sk-label-container:hover .sk-estimator-doc-link.fitted:hover,\n",
       ".sk-estimator-doc-link.fitted:hover {\n",
       "  /* fitted */\n",
       "  background-color: var(--sklearn-color-fitted-level-3);\n",
       "  color: var(--sklearn-color-background);\n",
       "  text-decoration: none;\n",
       "}\n",
       "\n",
       "/* Span, style for the box shown on hovering the info icon */\n",
       ".sk-estimator-doc-link span {\n",
       "  display: none;\n",
       "  z-index: 9999;\n",
       "  position: relative;\n",
       "  font-weight: normal;\n",
       "  right: .2ex;\n",
       "  padding: .5ex;\n",
       "  margin: .5ex;\n",
       "  width: min-content;\n",
       "  min-width: 20ex;\n",
       "  max-width: 50ex;\n",
       "  color: var(--sklearn-color-text);\n",
       "  box-shadow: 2pt 2pt 4pt #999;\n",
       "  /* unfitted */\n",
       "  background: var(--sklearn-color-unfitted-level-0);\n",
       "  border: .5pt solid var(--sklearn-color-unfitted-level-3);\n",
       "}\n",
       "\n",
       ".sk-estimator-doc-link.fitted span {\n",
       "  /* fitted */\n",
       "  background: var(--sklearn-color-fitted-level-0);\n",
       "  border: var(--sklearn-color-fitted-level-3);\n",
       "}\n",
       "\n",
       ".sk-estimator-doc-link:hover span {\n",
       "  display: block;\n",
       "}\n",
       "\n",
       "/* \"?\"-specific style due to the `<a>` HTML tag */\n",
       "\n",
       "#sk-container-id-1 a.estimator_doc_link {\n",
       "  float: right;\n",
       "  font-size: 1rem;\n",
       "  line-height: 1em;\n",
       "  font-family: monospace;\n",
       "  background-color: var(--sklearn-color-background);\n",
       "  border-radius: 1rem;\n",
       "  height: 1rem;\n",
       "  width: 1rem;\n",
       "  text-decoration: none;\n",
       "  /* unfitted */\n",
       "  color: var(--sklearn-color-unfitted-level-1);\n",
       "  border: var(--sklearn-color-unfitted-level-1) 1pt solid;\n",
       "}\n",
       "\n",
       "#sk-container-id-1 a.estimator_doc_link.fitted {\n",
       "  /* fitted */\n",
       "  border: var(--sklearn-color-fitted-level-1) 1pt solid;\n",
       "  color: var(--sklearn-color-fitted-level-1);\n",
       "}\n",
       "\n",
       "/* On hover */\n",
       "#sk-container-id-1 a.estimator_doc_link:hover {\n",
       "  /* unfitted */\n",
       "  background-color: var(--sklearn-color-unfitted-level-3);\n",
       "  color: var(--sklearn-color-background);\n",
       "  text-decoration: none;\n",
       "}\n",
       "\n",
       "#sk-container-id-1 a.estimator_doc_link.fitted:hover {\n",
       "  /* fitted */\n",
       "  background-color: var(--sklearn-color-fitted-level-3);\n",
       "}\n",
       "</style><div id=\"sk-container-id-1\" class=\"sk-top-container\"><div class=\"sk-text-repr-fallback\"><pre>KMeans(n_clusters=3, random_state=42)</pre><b>In a Jupyter environment, please rerun this cell to show the HTML representation or trust the notebook. <br />On GitHub, the HTML representation is unable to render, please try loading this page with nbviewer.org.</b></div><div class=\"sk-container\" hidden><div class=\"sk-item\"><div class=\"sk-estimator fitted sk-toggleable\"><input class=\"sk-toggleable__control sk-hidden--visually\" id=\"sk-estimator-id-1\" type=\"checkbox\" checked><label for=\"sk-estimator-id-1\" class=\"sk-toggleable__label fitted sk-toggleable__label-arrow fitted\">&nbsp;&nbsp;KMeans<a class=\"sk-estimator-doc-link fitted\" rel=\"noreferrer\" target=\"_blank\" href=\"https://scikit-learn.org/1.4/modules/generated/sklearn.cluster.KMeans.html\">?<span>Documentation for KMeans</span></a><span class=\"sk-estimator-doc-link fitted\">i<span>Fitted</span></span></label><div class=\"sk-toggleable__content fitted\"><pre>KMeans(n_clusters=3, random_state=42)</pre></div> </div></div></div></div>"
      ],
      "text/plain": [
       "KMeans(n_clusters=3, random_state=42)"
      ]
     },
     "execution_count": 52,
     "metadata": {},
     "output_type": "execute_result"
    }
   ],
   "source": [
    "## Building the Model:\n",
    "from sklearn.cluster import KMeans\n",
    "model = KMeans(n_clusters=3, random_state=42)\n",
    "\n",
    "# Training the model:\n",
    "model.fit(x)"
   ]
  },
  {
   "cell_type": "code",
   "execution_count": 66,
   "id": "e595eb4e-859e-491f-ba3a-629db82f69ae",
   "metadata": {},
   "outputs": [
    {
     "data": {
      "text/plain": [
       "array([0, 1, 0, 1, 0, 1, 1, 1, 1, 1, 0, 1, 1, 1, 0, 1, 1, 1, 0, 1, 1, 0,\n",
       "       0, 0, 1, 1, 1, 0, 1, 1, 1, 0, 0, 0, 0, 0, 1, 1, 1, 1, 1, 0, 1, 1,\n",
       "       1, 1, 1, 1, 1, 1, 2, 1, 1, 0, 1, 1, 1, 0, 0, 1, 1, 1, 0, 0, 0, 0,\n",
       "       1, 0, 1, 0, 1, 0, 0, 0, 1, 1, 0, 1, 1, 1, 1, 1, 1, 1, 0, 1, 1, 1,\n",
       "       1, 0, 0, 1, 1, 1, 1, 0, 2, 2, 1, 0, 1, 0, 1, 1, 1, 1, 0, 0, 1, 1,\n",
       "       1, 1, 0, 1, 1, 1, 1, 1, 1, 1, 0, 1, 1, 0, 0, 0, 1, 1, 0, 1, 1, 0,\n",
       "       1, 1, 1, 0, 1, 1, 0, 1, 1, 0, 1, 0, 1, 1, 1, 1, 0, 1, 0, 0, 0, 1,\n",
       "       2, 1, 0, 1, 1, 0, 1, 1, 1, 1, 2, 0, 0, 1, 0, 0, 1, 1, 1, 1, 1, 0,\n",
       "       1, 1, 0, 1, 0, 1, 0, 1, 0, 1, 0, 2, 1, 1, 0])"
      ]
     },
     "execution_count": 66,
     "metadata": {},
     "output_type": "execute_result"
    }
   ],
   "source": [
    "# Printing the labels, which datapoint belongs to which clusters\n",
    "label = model.labels_\n",
    "label"
   ]
  },
  {
   "cell_type": "code",
   "execution_count": 62,
   "id": "bc1afe17-e815-4a8e-8fc9-8d53426d68a9",
   "metadata": {},
   "outputs": [
    {
     "data": {
      "text/plain": [
       "Counter({1: 120, 0: 65, 2: 6})"
      ]
     },
     "execution_count": 62,
     "metadata": {},
     "output_type": "execute_result"
    }
   ],
   "source": [
    "from collections import Counter # collections library provides Advanced data structure. such as Counter.\n",
    "Counter(label) # Counter will count the unique values in an array. it will take categories as the key & count as values"
   ]
  },
  {
   "cell_type": "code",
   "execution_count": 68,
   "id": "4df3d5c1-aead-46c2-a935-a2e0581bc813",
   "metadata": {},
   "outputs": [
    {
     "data": {
      "text/plain": [
       "array([1])"
      ]
     },
     "execution_count": 68,
     "metadata": {},
     "output_type": "execute_result"
    }
   ],
   "source": [
    "# Predict new observstion:\n",
    "new_point = [[20,40,400]] # new observstion\n",
    "model.predict(new_point)  # predicted label"
   ]
  },
  {
   "cell_type": "markdown",
   "id": "4e47a8b6-ae1a-45a9-800b-9835b86c0683",
   "metadata": {},
   "source": [
    "### Interpretation of the Cluster Labels:"
   ]
  },
  {
   "cell_type": "code",
   "execution_count": 71,
   "id": "3ab919f3-08f5-49f5-b23d-0eddfd1689d0",
   "metadata": {},
   "outputs": [
    {
     "data": {
      "text/html": [
       "<div>\n",
       "<style scoped>\n",
       "    .dataframe tbody tr th:only-of-type {\n",
       "        vertical-align: middle;\n",
       "    }\n",
       "\n",
       "    .dataframe tbody tr th {\n",
       "        vertical-align: top;\n",
       "    }\n",
       "\n",
       "    .dataframe thead th {\n",
       "        text-align: right;\n",
       "    }\n",
       "</style>\n",
       "<table border=\"1\" class=\"dataframe\">\n",
       "  <thead>\n",
       "    <tr style=\"text-align: right;\">\n",
       "      <th></th>\n",
       "      <th>country</th>\n",
       "      <th>fy2017, Dealing with construction permits</th>\n",
       "      <th>fy2019, Dealing with construction permits</th>\n",
       "      <th>fy2018, Dealing with construction permits</th>\n",
       "      <th>Labels</th>\n",
       "    </tr>\n",
       "  </thead>\n",
       "  <tbody>\n",
       "    <tr>\n",
       "      <th>0</th>\n",
       "      <td>AFG</td>\n",
       "      <td>33.70269</td>\n",
       "      <td>34.53602</td>\n",
       "      <td>34.53602</td>\n",
       "      <td>0</td>\n",
       "    </tr>\n",
       "    <tr>\n",
       "      <th>1</th>\n",
       "      <td>AGO</td>\n",
       "      <td>64.57157</td>\n",
       "      <td>65.32993</td>\n",
       "      <td>64.99177</td>\n",
       "      <td>1</td>\n",
       "    </tr>\n",
       "    <tr>\n",
       "      <th>2</th>\n",
       "      <td>ALB</td>\n",
       "      <td>52.60171</td>\n",
       "      <td>52.67715</td>\n",
       "      <td>52.64734</td>\n",
       "      <td>0</td>\n",
       "    </tr>\n",
       "    <tr>\n",
       "      <th>3</th>\n",
       "      <td>ARE</td>\n",
       "      <td>86.51006</td>\n",
       "      <td>89.75407</td>\n",
       "      <td>86.52729</td>\n",
       "      <td>1</td>\n",
       "    </tr>\n",
       "    <tr>\n",
       "      <th>4</th>\n",
       "      <td>ARG</td>\n",
       "      <td>48.96341</td>\n",
       "      <td>56.44015</td>\n",
       "      <td>49.26822</td>\n",
       "      <td>0</td>\n",
       "    </tr>\n",
       "    <tr>\n",
       "      <th>...</th>\n",
       "      <td>...</td>\n",
       "      <td>...</td>\n",
       "      <td>...</td>\n",
       "      <td>...</td>\n",
       "      <td>...</td>\n",
       "    </tr>\n",
       "    <tr>\n",
       "      <th>186</th>\n",
       "      <td>XKX</td>\n",
       "      <td>50.29844</td>\n",
       "      <td>55.28702</td>\n",
       "      <td>52.87432</td>\n",
       "      <td>0</td>\n",
       "    </tr>\n",
       "    <tr>\n",
       "      <th>187</th>\n",
       "      <td>YEM</td>\n",
       "      <td>0.00000</td>\n",
       "      <td>0.00000</td>\n",
       "      <td>0.00000</td>\n",
       "      <td>2</td>\n",
       "    </tr>\n",
       "    <tr>\n",
       "      <th>188</th>\n",
       "      <td>ZAF</td>\n",
       "      <td>68.26741</td>\n",
       "      <td>68.32331</td>\n",
       "      <td>68.24925</td>\n",
       "      <td>1</td>\n",
       "    </tr>\n",
       "    <tr>\n",
       "      <th>189</th>\n",
       "      <td>ZMB</td>\n",
       "      <td>71.10859</td>\n",
       "      <td>72.09460</td>\n",
       "      <td>71.72488</td>\n",
       "      <td>1</td>\n",
       "    </tr>\n",
       "    <tr>\n",
       "      <th>190</th>\n",
       "      <td>ZWE</td>\n",
       "      <td>46.39289</td>\n",
       "      <td>60.00173</td>\n",
       "      <td>48.55427</td>\n",
       "      <td>0</td>\n",
       "    </tr>\n",
       "  </tbody>\n",
       "</table>\n",
       "<p>191 rows × 5 columns</p>\n",
       "</div>"
      ],
      "text/plain": [
       "    country  fy2017, Dealing with construction permits  \\\n",
       "0       AFG                                   33.70269   \n",
       "1       AGO                                   64.57157   \n",
       "2       ALB                                   52.60171   \n",
       "3       ARE                                   86.51006   \n",
       "4       ARG                                   48.96341   \n",
       "..      ...                                        ...   \n",
       "186     XKX                                   50.29844   \n",
       "187     YEM                                    0.00000   \n",
       "188     ZAF                                   68.26741   \n",
       "189     ZMB                                   71.10859   \n",
       "190     ZWE                                   46.39289   \n",
       "\n",
       "     fy2019, Dealing with construction permits  \\\n",
       "0                                     34.53602   \n",
       "1                                     65.32993   \n",
       "2                                     52.67715   \n",
       "3                                     89.75407   \n",
       "4                                     56.44015   \n",
       "..                                         ...   \n",
       "186                                   55.28702   \n",
       "187                                    0.00000   \n",
       "188                                   68.32331   \n",
       "189                                   72.09460   \n",
       "190                                   60.00173   \n",
       "\n",
       "     fy2018, Dealing with construction permits  Labels  \n",
       "0                                     34.53602       0  \n",
       "1                                     64.99177       1  \n",
       "2                                     52.64734       0  \n",
       "3                                     86.52729       1  \n",
       "4                                     49.26822       0  \n",
       "..                                         ...     ...  \n",
       "186                                   52.87432       0  \n",
       "187                                    0.00000       2  \n",
       "188                                   68.24925       1  \n",
       "189                                   71.72488       1  \n",
       "190                                   48.55427       0  \n",
       "\n",
       "[191 rows x 5 columns]"
      ]
     },
     "execution_count": 71,
     "metadata": {},
     "output_type": "execute_result"
    }
   ],
   "source": [
    "df['Labels'] = label\n",
    "df"
   ]
  },
  {
   "cell_type": "raw",
   "id": "ab69c13c-d289-430b-8b68-a7a424e80fbe",
   "metadata": {},
   "source": [
    "Now we want to see which cluster gives the maximum amount of country permit for the years 2018,17&19"
   ]
  },
  {
   "cell_type": "markdown",
   "id": "50f57cf3-f51b-4444-9762-9c09a37a5052",
   "metadata": {},
   "source": [
    "### Label 0:"
   ]
  },
  {
   "cell_type": "code",
   "execution_count": 76,
   "id": "94593b6f-8683-4782-a4b3-83a364573532",
   "metadata": {},
   "outputs": [
    {
     "data": {
      "text/plain": [
       "(54.701783846153845, 51.37082446153846, 56.48001461538461)"
      ]
     },
     "execution_count": 76,
     "metadata": {},
     "output_type": "execute_result"
    }
   ],
   "source": [
    "(df.loc[df['Labels']==0].iloc[:,3].mean(),df.loc[df['Labels']==0].iloc[:,1].mean(), df.loc[df['Labels']==0].iloc[:,2].mean())"
   ]
  },
  {
   "cell_type": "markdown",
   "id": "777c505d-8aa6-495f-9565-3c414ef46e1f",
   "metadata": {},
   "source": [
    "### Label 1:"
   ]
  },
  {
   "cell_type": "code",
   "execution_count": 79,
   "id": "f3b0ab8c-aba6-417f-a771-460ae5dfb831",
   "metadata": {},
   "outputs": [
    {
     "data": {
      "text/plain": [
       "(73.22151008333334, 72.63648108333334, 73.96985699999999)"
      ]
     },
     "execution_count": 79,
     "metadata": {},
     "output_type": "execute_result"
    }
   ],
   "source": [
    "(df.loc[df['Labels']==1].iloc[:,3].mean(),df.loc[df['Labels']==1].iloc[:,1].mean(), df.loc[df['Labels']==1].iloc[:,2].mean())"
   ]
  },
  {
   "cell_type": "markdown",
   "id": "0f67c216-16c0-4eeb-a23a-854d13c74921",
   "metadata": {},
   "source": [
    "### Label 2:"
   ]
  },
  {
   "cell_type": "code",
   "execution_count": 86,
   "id": "d9b29e8f-99be-4462-8c88-4ef66bc37a9b",
   "metadata": {},
   "outputs": [
    {
     "data": {
      "text/plain": [
       "(4.823086666666667, 4.823086666666667, 4.823086666666667)"
      ]
     },
     "execution_count": 86,
     "metadata": {},
     "output_type": "execute_result"
    }
   ],
   "source": [
    "(df.loc[df['Labels']==2].iloc[:,3].mean(), df.loc[df['Labels']==2].iloc[:,1].mean(),df.loc[df['Labels']==2].iloc[:,2].mean())"
   ]
  },
  {
   "cell_type": "markdown",
   "id": "29ac959c-e819-4b4f-b5db-8f764f8f871e",
   "metadata": {},
   "source": [
    "From the above means of performance indices, we can see that the model clustered countries according to ease of dealing with construction permits:\n",
    "- Label 2: Countries with least performance\n",
    "- Label 1: Countries with the highest performance\n",
    "- Label 0: Countries with reasonably good performance"
   ]
  },
  {
   "cell_type": "markdown",
   "id": "5c12fc96-106e-4a2f-96a7-8dd76d3d9843",
   "metadata": {},
   "source": [
    "### Grouping Countries based on Performance Measures"
   ]
  },
  {
   "cell_type": "code",
   "execution_count": 95,
   "id": "8bdf6f94-f888-4ad6-bfec-e10585f2b7cb",
   "metadata": {},
   "outputs": [
    {
     "data": {
      "text/plain": [
       "array([0, 1, 0, 1, 0, 1, 1, 1, 1, 1, 0, 1, 1, 1, 0, 1, 1, 1, 0, 1, 1, 0,\n",
       "       0, 0, 1, 1, 1, 0, 1, 1, 1, 0, 0, 0, 0, 0, 1, 1, 1, 1, 1, 0, 1, 1,\n",
       "       1, 1, 1, 1, 1, 1, 2, 1, 1, 0, 1, 1, 1, 0, 0, 1, 1, 1, 0, 0, 0, 0,\n",
       "       1, 0, 1, 0, 1, 0, 0, 0, 1, 1, 0, 1, 1, 1, 1, 1, 1, 1, 0, 1, 1, 1,\n",
       "       1, 0, 0, 1, 1, 1, 1, 0, 2, 2, 1, 0, 1, 0, 1, 1, 1, 1, 0, 0, 1, 1,\n",
       "       1, 1, 0, 1, 1, 1, 1, 1, 1, 1, 0, 1, 1, 0, 0, 0, 1, 1, 0, 1, 1, 0,\n",
       "       1, 1, 1, 0, 1, 1, 0, 1, 1, 0, 1, 0, 1, 1, 1, 1, 0, 1, 0, 0, 0, 1,\n",
       "       2, 1, 0, 1, 1, 0, 1, 1, 1, 1, 2, 0, 0, 1, 0, 0, 1, 1, 1, 1, 1, 0,\n",
       "       1, 1, 0, 1, 0, 1, 0, 1, 0, 1, 0, 2, 1, 1, 0])"
      ]
     },
     "execution_count": 95,
     "metadata": {},
     "output_type": "execute_result"
    }
   ],
   "source": [
    "label"
   ]
  },
  {
   "cell_type": "code",
   "execution_count": 97,
   "id": "f9898606-8388-4e70-a929-228a121babd2",
   "metadata": {},
   "outputs": [],
   "source": [
    "least=[]\n",
    "moderate=[]\n",
    "highest=[]\n",
    "\n",
    "for i in range(len(df)):\n",
    "    if label[i]==2:\n",
    "        least.append(df['country'][i])\n",
    "    elif label[i]==1:\n",
    "        moderate.append(df['country'][i])\n",
    "    else:\n",
    "        highest.append(df['country'][i])"
   ]
  },
  {
   "cell_type": "code",
   "execution_count": 101,
   "id": "4ae969ed-5368-4bd9-8a09-dd9e9f67ed8b",
   "metadata": {},
   "outputs": [
    {
     "name": "stdout",
     "output_type": "stream",
     "text": [
      "Countries with least regulatory performance: \n",
      " ['ERI', 'LBR', 'LBY', 'SOM', 'SYR', 'YEM']\n"
     ]
    }
   ],
   "source": [
    "print('Countries with least regulatory performance: \\n', least)"
   ]
  },
  {
   "cell_type": "code",
   "execution_count": 103,
   "id": "9dfb05cc-7c1f-4c1e-bb44-f2bf6149ab9e",
   "metadata": {},
   "outputs": [
    {
     "name": "stdout",
     "output_type": "stream",
     "text": [
      "Countries with moderate regulatory performance: \n",
      " ['AGO', 'ARE', 'ARM', 'ATG', 'AUS', 'AUT', 'AZE', 'BEL', 'BEN', 'BFA', 'BGR', 'BHR', 'BHS', 'BLR', 'BLZ', 'BRN', 'BTN', 'BWA', 'CAN', 'CHE', 'CHL', 'COL', 'COM', 'CPV', 'CRI', 'CYP', 'DEU', 'DJI', 'DMA', 'DNK', 'DOM', 'DZA', 'ECU', 'EGY', 'ESP', 'EST', 'FIN', 'FJI', 'FRA', 'GBR', 'GEO', 'GHA', 'GRC', 'GTM', 'HKG', 'HUN', 'IDN', 'IRL', 'IRN', 'IRQ', 'ISL', 'ISR', 'ITA', 'JAM', 'JPN', 'KAZ', 'KEN', 'KGZ', 'KNA', 'KOR', 'KWT', 'LAO', 'LCA', 'LKA', 'LTU', 'LUX', 'LVA', 'MAR', 'MDV', 'MEX', 'MHL', 'MKD', 'MLT', 'MMR', 'MNE', 'MNG', 'MOZ', 'MRT', 'MUS', 'MYS', 'NAM', 'NLD', 'NOR', 'NZL', 'OMN', 'PAN', 'PER', 'PHL', 'PNG', 'POL', 'PRT', 'PRY', 'QAT', 'RUS', 'RWA', 'SAU', 'SDN', 'SGP', 'SMR', 'SRB', 'STP', 'SUR', 'SVN', 'SWE', 'SWZ', 'SYC', 'THA', 'TON', 'TTO', 'TUN', 'TUR', 'TWN', 'UGA', 'UKR', 'USA', 'VCT', 'VNM', 'WSM', 'ZAF', 'ZMB']\n"
     ]
    }
   ],
   "source": [
    "print('Countries with moderate regulatory performance: \\n', moderate)"
   ]
  },
  {
   "cell_type": "code",
   "execution_count": 105,
   "id": "17ffb733-cf01-4823-a329-06899c158788",
   "metadata": {},
   "outputs": [
    {
     "name": "stdout",
     "output_type": "stream",
     "text": [
      "Countries with highest regulatory performance: \n",
      " ['AFG', 'ALB', 'ARG', 'BDI', 'BGD', 'BIH', 'BOL', 'BRA', 'BRB', 'CAF', 'CHN', 'CIV', 'CMR', 'COD', 'COG', 'CZE', 'ETH', 'FSM', 'GAB', 'GIN', 'GMB', 'GNB', 'GNQ', 'GRD', 'GUY', 'HND', 'HRV', 'HTI', 'IND', 'JOR', 'KHM', 'KIR', 'LBN', 'LIE', 'LSO', 'MDA', 'MDG', 'MLI', 'MWI', 'NER', 'NGA', 'NIC', 'NPL', 'PAK', 'PLW', 'PRI', 'PSE', 'ROU', 'SEN', 'SLB', 'SLE', 'SLV', 'SSD', 'SVK', 'TCD', 'TGO', 'TJK', 'TLS', 'TZA', 'URY', 'UZB', 'VEN', 'VUT', 'XKX', 'ZWE']\n"
     ]
    }
   ],
   "source": [
    "print('Countries with highest regulatory performance: \\n', highest)"
   ]
  },
  {
   "cell_type": "code",
   "execution_count": null,
   "id": "d8a60e08-2b7b-4296-a7b0-0f3401b0f04f",
   "metadata": {},
   "outputs": [],
   "source": []
  },
  {
   "cell_type": "markdown",
   "id": "96c06f9e-a978-478b-a896-b05501e4e519",
   "metadata": {},
   "source": [
    "## Evaluation:"
   ]
  },
  {
   "cell_type": "code",
   "execution_count": 109,
   "id": "b35958bd-5bbd-41d5-8911-db0f4e63ea06",
   "metadata": {},
   "outputs": [
    {
     "data": {
      "text/plain": [
       "0.5555746485484693"
      ]
     },
     "execution_count": 109,
     "metadata": {},
     "output_type": "execute_result"
    }
   ],
   "source": [
    "from sklearn.metrics import silhouette_score\n",
    "score = silhouette_score(x,label)\n",
    "score"
   ]
  },
  {
   "cell_type": "markdown",
   "id": "b3df2f70-2bdf-41e8-a9bf-83f5a4277a30",
   "metadata": {},
   "source": [
    "Try modeling with different k values to compare the clustering efficiency."
   ]
  },
  {
   "cell_type": "markdown",
   "id": "70f0d6c9-d07f-4049-a26d-6d138023a3ff",
   "metadata": {},
   "source": [
    "The range of Silhouette score is [-1, 1]. Its analysis is as follows −\n",
    "\n",
    "+1 Score − Near +1 Silhouette score indicates that the sample is far away from its neighboring cluster.\n",
    "\n",
    "0 Score − 0 Silhouette score indicates that the sample is on or very close to the decision boundary separating two neighboring clusters.\n",
    "\n",
    "-1 Score − 1 Silhouette score indicates that the samples have been assigned to the wrong clusters."
   ]
  },
  {
   "cell_type": "markdown",
   "id": "a8a4447b-e9a4-406e-8529-95da9dd04077",
   "metadata": {},
   "source": [
    "The calculation of Silhouette score can be done by using the following formula\n",
    "\n",
    "$$silhouette score\\:=\\:(p-q)/max(p,q)$$\n",
    "\n",
    "Here, p = mean distance to the points in the nearest cluster\n",
    "\n",
    "And, q = mean intra-cluster distance to all the points."
   ]
  },
  {
   "cell_type": "markdown",
   "id": "53f52f5d-e50b-425e-b1b9-ccd747751bbf",
   "metadata": {},
   "source": [
    "### Applications\n",
    "The scikit-learn book describes the various applications of clustering as follows:\n",
    "\n",
    "* __For customer segmentation:__ You can cluster your customers based on their purchases,their activity on your website, and so on. This is useful to understand who your customers are and what they need, so you can adapt your products and marketing campaigns to each segment. For example, this can be useful in recommender systems to suggest content that other users in the same cluster enjoyed.Subdivision of customers into groups/segments such that each customer segment consists of customers with similar market characteristics — pricing , loyalty, spending behaviors etc. Some of the segmentation variables could be e.g., number of items bought on sale, avg transaction value, total number of transactions. Customer segmentation allows businesses to customize market programs that will be suitable for each of its customer segments\n",
    "\n",
    "* __For data analysis:__ When analyzing a new dataset, it is often useful to first discover clusters of similar instances, as it is often easier to analyze clusters separately.\n",
    "\n",
    "* __Inventory Categorization based on sales or other manufacturing metrics.\n",
    "\n",
    "* __For anomaly detection (also called outlier detection):__ Any instance that has a low affinity to all the clusters is likely to be an anomaly. For example, if you have clustered the users of your website based on their behavior, you can detect users with unusual behavior, such as an unusual number of requests per second, and so on. Anomaly detection is particularly useful in detecting defects in manufacturing, or for fraud detection.\n",
    "\n",
    "\n",
    "* __For search engines:__ For example, some search engines let you search for images that are similar to a reference image. To build such a system, you would first apply a clustering algorithm to all the images in your database: similar images would end up in the same cluster. Then when a user provides a reference image, all you need to do is to find this image’s cluster using the trained clustering model, and you can then simply return all the images from this cluster.\n",
    "\n",
    "* __To segment an image:__ By clustering pixels according to their color, then replacing each pixel’s color with the mean color of its cluster, it is possible to reduce the number of different colors in the image considerably. This technique is used in many object detection and tracking systems, as it makes it easier to detect the contour of each object.\n"
   ]
  },
  {
   "cell_type": "markdown",
   "id": "0387ad67-9f72-43a4-bbc2-f5dba0b8175e",
   "metadata": {},
   "source": [
    "##### Approaches for Clustering:\n",
    "The clustering approaches can be broadly divided into two categories: _Agglomerative_ and _Divisive_.\n",
    "\n",
    "**Agglomerative:** This approach first considers all the points as individual clusters and then finds out the similarity between two points, puts them into a cluster. Then it goes on finding similar points and clusters until there is only one cluster left i.e., all points belong to a big cluster. This is also called the bottom-up approach.\n",
    "\n",
    "**Divisive:** It is opposite of the agglomerative approach. It first considers all the points to be part of one big cluster and in the subsequent steps tries to find out the points/ clusters which are least similar to each other and then breaks the bigger cluster into smaller ones. This continues until there are as many clusters as there are datapoints. This is also called the top-down approach."
   ]
  },
  {
   "cell_type": "markdown",
   "id": "6683f80e-c9a7-4743-becf-c84b814426a7",
   "metadata": {},
   "source": [
    "### Assumption of K Means:\n",
    "- Clusters are spatially grouped or spherical\n",
    "- All features are scaled\n",
    "- Clusters are of similar size"
   ]
  },
  {
   "cell_type": "markdown",
   "id": "752e7968-4727-4964-9e12-a15fb52b8dd2",
   "metadata": {},
   "source": [
    "### Pros:\n",
    "- Works well even when some assumptions are broken\n",
    "- Simple and easy to implement\n",
    "- Easy to interpret\n",
    "\n",
    "### Cons:\n",
    "\n",
    "- Sensitive to outliers\n",
    "- k value has to be known before"
   ]
  },
  {
   "cell_type": "markdown",
   "id": "8e7233c0-17a8-45c7-b54f-560b843588d1",
   "metadata": {},
   "source": [
    "### Goal of Clustering\n",
    "\n",
    "- Distance between centroid and its point should be minimum\n",
    "- Intra-cluster distance should be less\n",
    "- Distance between intercluster should be high"
   ]
  },
  {
   "cell_type": "code",
   "execution_count": null,
   "id": "20636cc7-efaf-435d-ae47-b629e5a00478",
   "metadata": {},
   "outputs": [],
   "source": []
  }
 ],
 "metadata": {
  "kernelspec": {
   "display_name": "Python 3 (ipykernel)",
   "language": "python",
   "name": "python3"
  },
  "language_info": {
   "codemirror_mode": {
    "name": "ipython",
    "version": 3
   },
   "file_extension": ".py",
   "mimetype": "text/x-python",
   "name": "python",
   "nbconvert_exporter": "python",
   "pygments_lexer": "ipython3",
   "version": "3.12.4"
  }
 },
 "nbformat": 4,
 "nbformat_minor": 5
}
